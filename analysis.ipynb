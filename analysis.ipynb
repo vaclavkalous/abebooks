{
 "cells": [
  {
   "cell_type": "code",
   "execution_count": 1,
   "metadata": {},
   "outputs": [],
   "source": [
    "import pandas as pd"
   ]
  },
  {
   "cell_type": "code",
   "execution_count": 2,
   "metadata": {},
   "outputs": [],
   "source": [
    "df = pd.read_csv(\"abebooks.csv\")"
   ]
  },
  {
   "cell_type": "markdown",
   "metadata": {},
   "source": [
    "#### Jak často je Bookbot jediným prodávajícím?"
   ]
  },
  {
   "cell_type": "code",
   "execution_count": 3,
   "metadata": {},
   "outputs": [],
   "source": [
    "sellers_by_isbn = df.groupby(\"isbn\", as_index=False).agg(\n",
    "    num_sellers=(\"seller\", \"nunique\")\n",
    ")\n",
    "one_seller_offers = len(sellers_by_isbn[sellers_by_isbn[\"num_sellers\"] == 1])"
   ]
  },
  {
   "cell_type": "code",
   "execution_count": 4,
   "metadata": {},
   "outputs": [
    {
     "name": "stdout",
     "output_type": "stream",
     "text": [
      "Bookbot je jediným prodávajícím v 9.60% případů\n"
     ]
    }
   ],
   "source": [
    "print(\n",
    "    f\"Bookbot je jediným prodávajícím v {(one_seller_offers/df['isbn'].nunique())*100:.2f}% případů\"\n",
    ")"
   ]
  },
  {
   "cell_type": "markdown",
   "metadata": {},
   "source": [
    "#### Jak často je cena od Bookbota mezi 25% nejlevnějšími a nejdražšími nabídkami?"
   ]
  },
  {
   "cell_type": "code",
   "execution_count": 5,
   "metadata": {},
   "outputs": [],
   "source": [
    "price_quantiles = (\n",
    "    df.groupby(\"isbn\")[\"price\"].quantile([0.25, 0.75]).unstack().reset_index()\n",
    ")\n",
    "prices = df[df[\"seller\"] == \"Bookbot\"].merge(price_quantiles, on=\"isbn\", how=\"left\")\n",
    "\n",
    "prices[\"below_25p\"] = prices[\"price\"] < prices[0.25]\n",
    "prices[\"above_75p\"] = prices[\"price\"] > prices[0.75]"
   ]
  },
  {
   "cell_type": "code",
   "execution_count": 6,
   "metadata": {},
   "outputs": [
    {
     "name": "stdout",
     "output_type": "stream",
     "text": [
      "Cena od Bookbota je mezi 25% nejlevnějších nabídek v 49.40% případů\n"
     ]
    }
   ],
   "source": [
    "print(\n",
    "    f\"Cena od Bookbota je mezi 25% nejlevnějších nabídek v {(prices['below_25p'].sum()/len(prices))*100:.2f}% případů\"\n",
    ")"
   ]
  },
  {
   "cell_type": "code",
   "execution_count": 7,
   "metadata": {},
   "outputs": [
    {
     "name": "stdout",
     "output_type": "stream",
     "text": [
      "Cena od Bookbota je mezi 25% nejdražších nabídek v 14.80% případů\n"
     ]
    }
   ],
   "source": [
    "print(\n",
    "    f\"Cena od Bookbota je mezi 25% nejdražších nabídek v {(prices['above_75p'].sum()/len(prices))*100:.2f}% případů\"\n",
    ")"
   ]
  },
  {
   "cell_type": "markdown",
   "metadata": {},
   "source": [
    "#### Identifikujte prodejce, kteří mají častěji nižší cenu než BookBot."
   ]
  },
  {
   "cell_type": "code",
   "execution_count": 8,
   "metadata": {},
   "outputs": [],
   "source": [
    "bookbot_prices = df[df[\"seller\"] == \"Bookbot\"][[\"isbn\", \"price\"]]\n",
    "competition_prices = df[df[\"seller\"] != \"Bookbot\"][[\"seller\", \"isbn\", \"price\"]]"
   ]
  },
  {
   "cell_type": "code",
   "execution_count": 9,
   "metadata": {},
   "outputs": [
    {
     "data": {
      "text/html": [
       "<div>\n",
       "<style scoped>\n",
       "    .dataframe tbody tr th:only-of-type {\n",
       "        vertical-align: middle;\n",
       "    }\n",
       "\n",
       "    .dataframe tbody tr th {\n",
       "        vertical-align: top;\n",
       "    }\n",
       "\n",
       "    .dataframe thead th {\n",
       "        text-align: right;\n",
       "    }\n",
       "</style>\n",
       "<table border=\"1\" class=\"dataframe\">\n",
       "  <thead>\n",
       "    <tr style=\"text-align: right;\">\n",
       "      <th></th>\n",
       "      <th>Prodejce</th>\n",
       "      <th>Počet levnějších titulů</th>\n",
       "    </tr>\n",
       "  </thead>\n",
       "  <tbody>\n",
       "    <tr>\n",
       "      <th>0</th>\n",
       "      <td>medimops</td>\n",
       "      <td>87</td>\n",
       "    </tr>\n",
       "    <tr>\n",
       "      <th>1</th>\n",
       "      <td>Book Deals</td>\n",
       "      <td>63</td>\n",
       "    </tr>\n",
       "    <tr>\n",
       "      <th>2</th>\n",
       "      <td>moluna</td>\n",
       "      <td>62</td>\n",
       "    </tr>\n",
       "    <tr>\n",
       "      <th>3</th>\n",
       "      <td>GreatBookPricesUK</td>\n",
       "      <td>59</td>\n",
       "    </tr>\n",
       "    <tr>\n",
       "      <th>4</th>\n",
       "      <td>Books Unplugged</td>\n",
       "      <td>56</td>\n",
       "    </tr>\n",
       "    <tr>\n",
       "      <th>5</th>\n",
       "      <td>GF Books, Inc.</td>\n",
       "      <td>53</td>\n",
       "    </tr>\n",
       "    <tr>\n",
       "      <th>6</th>\n",
       "      <td>GreatBookPrices</td>\n",
       "      <td>51</td>\n",
       "    </tr>\n",
       "    <tr>\n",
       "      <th>7</th>\n",
       "      <td>Byrd Books</td>\n",
       "      <td>47</td>\n",
       "    </tr>\n",
       "    <tr>\n",
       "      <th>8</th>\n",
       "      <td>GoldBooks</td>\n",
       "      <td>45</td>\n",
       "    </tr>\n",
       "    <tr>\n",
       "      <th>9</th>\n",
       "      <td>Revaluation Books</td>\n",
       "      <td>42</td>\n",
       "    </tr>\n",
       "    <tr>\n",
       "      <th>10</th>\n",
       "      <td>AHA-BUCH GmbH</td>\n",
       "      <td>39</td>\n",
       "    </tr>\n",
       "    <tr>\n",
       "      <th>11</th>\n",
       "      <td>GoldenWavesOfBooks</td>\n",
       "      <td>38</td>\n",
       "    </tr>\n",
       "    <tr>\n",
       "      <th>12</th>\n",
       "      <td>WorldofBooks</td>\n",
       "      <td>37</td>\n",
       "    </tr>\n",
       "    <tr>\n",
       "      <th>13</th>\n",
       "      <td>booksXpress</td>\n",
       "      <td>36</td>\n",
       "    </tr>\n",
       "    <tr>\n",
       "      <th>14</th>\n",
       "      <td>PBShop.store UK</td>\n",
       "      <td>35</td>\n",
       "    </tr>\n",
       "    <tr>\n",
       "      <th>15</th>\n",
       "      <td>Wizard Books</td>\n",
       "      <td>35</td>\n",
       "    </tr>\n",
       "    <tr>\n",
       "      <th>16</th>\n",
       "      <td>Blackwell's</td>\n",
       "      <td>32</td>\n",
       "    </tr>\n",
       "    <tr>\n",
       "      <th>17</th>\n",
       "      <td>SecondSale</td>\n",
       "      <td>31</td>\n",
       "    </tr>\n",
       "    <tr>\n",
       "      <th>18</th>\n",
       "      <td>BuchWeltWeit Ludwig Meier e.K.</td>\n",
       "      <td>30</td>\n",
       "    </tr>\n",
       "    <tr>\n",
       "      <th>19</th>\n",
       "      <td>Chiron Media</td>\n",
       "      <td>30</td>\n",
       "    </tr>\n",
       "  </tbody>\n",
       "</table>\n",
       "</div>"
      ],
      "text/plain": [
       "                          Prodejce  Počet levnějších titulů\n",
       "0                         medimops                       87\n",
       "1                       Book Deals                       63\n",
       "2                           moluna                       62\n",
       "3                GreatBookPricesUK                       59\n",
       "4                  Books Unplugged                       56\n",
       "5                   GF Books, Inc.                       53\n",
       "6                  GreatBookPrices                       51\n",
       "7                       Byrd Books                       47\n",
       "8                        GoldBooks                       45\n",
       "9                Revaluation Books                       42\n",
       "10                   AHA-BUCH GmbH                       39\n",
       "11              GoldenWavesOfBooks                       38\n",
       "12                    WorldofBooks                       37\n",
       "13                     booksXpress                       36\n",
       "14                 PBShop.store UK                       35\n",
       "15                    Wizard Books                       35\n",
       "16                     Blackwell's                       32\n",
       "17                      SecondSale                       31\n",
       "18  BuchWeltWeit Ludwig Meier e.K.                       30\n",
       "19                    Chiron Media                       30"
      ]
     },
     "execution_count": 9,
     "metadata": {},
     "output_type": "execute_result"
    }
   ],
   "source": [
    "price_vs_competition = competition_prices.merge(\n",
    "    bookbot_prices, on=\"isbn\", suffixes=(\"\", \"_bookbot\")\n",
    ")\n",
    "price_vs_competition[\"cheaper_than_bookbot\"] = (\n",
    "    price_vs_competition[\"price\"] < price_vs_competition[\"price_bookbot\"]\n",
    ")\n",
    "price_vs_competition.groupby(\"seller\", as_index=False).agg(\n",
    "    cheaper_books=(\"cheaper_than_bookbot\", \"sum\")\n",
    ").nlargest(20, \"cheaper_books\").reset_index(drop=True).rename(\n",
    "    columns={\"seller\": \"Prodejce\", \"cheaper_books\": \"Počet levnějších titulů\"}\n",
    ")"
   ]
  },
  {
   "cell_type": "markdown",
   "metadata": {},
   "source": [
    "#### Vypočítejte průměrnou odchylku nabídek Bookotu od nejnižší ceny."
   ]
  },
  {
   "cell_type": "code",
   "execution_count": 10,
   "metadata": {},
   "outputs": [],
   "source": [
    "min_price = df.groupby(\"isbn\", as_index=False).agg({\"price\": \"min\"})\n",
    "price_vs_min = df[df[\"seller\"] == \"Bookbot\"].merge(\n",
    "    min_price, on=\"isbn\", suffixes=(\"\", \"_mininum\")\n",
    ")\n",
    "price_vs_min[\"diff\"] = price_vs_min[\"price\"] - price_vs_min[\"price_mininum\"]"
   ]
  },
  {
   "cell_type": "code",
   "execution_count": 11,
   "metadata": {},
   "outputs": [
    {
     "name": "stdout",
     "output_type": "stream",
     "text": [
      "Průměrná odchylka Bookbota od nejnižší ceny je 19.01 EUR\n"
     ]
    }
   ],
   "source": [
    "print(\n",
    "    f\"Průměrná odchylka Bookbota od nejnižší ceny je {price_vs_min['diff'].mean():.2f} EUR\"\n",
    ")"
   ]
  },
  {
   "cell_type": "code",
   "execution_count": 12,
   "metadata": {},
   "outputs": [
    {
     "name": "stdout",
     "output_type": "stream",
     "text": [
      "Ale medián odchylky Bookbota od nejnižší ceny je 3.00 EUR\n"
     ]
    }
   ],
   "source": [
    "print(\n",
    "    f\"Ale medián odchylky Bookbota od nejnižší ceny je {price_vs_min['diff'].median():.2f} EUR\"\n",
    ")"
   ]
  },
  {
   "cell_type": "markdown",
   "metadata": {},
   "source": [
    "#### Analyzujte relativní zastoupení nabídek ze zahraničí ve stažených datech."
   ]
  },
  {
   "cell_type": "code",
   "execution_count": 13,
   "metadata": {},
   "outputs": [
    {
     "name": "stdout",
     "output_type": "stream",
     "text": [
      "Podíl zahraničních nabídek v datech je 84.34%\n"
     ]
    }
   ],
   "source": [
    "print(\n",
    "    f'Podíl zahraničních nabídek v datech je {(len(df[df[\"seller_country\"]!=\"Deutschland\"])/len(df))*100:.2f}%'\n",
    ")"
   ]
  }
 ],
 "metadata": {
  "kernelspec": {
   "display_name": "venv",
   "language": "python",
   "name": "python3"
  },
  "language_info": {
   "codemirror_mode": {
    "name": "ipython",
    "version": 3
   },
   "file_extension": ".py",
   "mimetype": "text/x-python",
   "name": "python",
   "nbconvert_exporter": "python",
   "pygments_lexer": "ipython3",
   "version": "3.10.8"
  }
 },
 "nbformat": 4,
 "nbformat_minor": 2
}
