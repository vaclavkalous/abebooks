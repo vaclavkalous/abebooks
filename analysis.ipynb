{
 "cells": [
  {
   "cell_type": "code",
   "execution_count": 1,
   "metadata": {},
   "outputs": [],
   "source": [
    "import pandas as pd"
   ]
  },
  {
   "cell_type": "code",
   "execution_count": 2,
   "metadata": {},
   "outputs": [
    {
     "data": {
      "text/html": [
       "<div>\n",
       "<style scoped>\n",
       "    .dataframe tbody tr th:only-of-type {\n",
       "        vertical-align: middle;\n",
       "    }\n",
       "\n",
       "    .dataframe tbody tr th {\n",
       "        vertical-align: top;\n",
       "    }\n",
       "\n",
       "    .dataframe thead th {\n",
       "        text-align: right;\n",
       "    }\n",
       "</style>\n",
       "<table border=\"1\" class=\"dataframe\">\n",
       "  <thead>\n",
       "    <tr style=\"text-align: right;\">\n",
       "      <th></th>\n",
       "      <th>isbn</th>\n",
       "      <th>title</th>\n",
       "      <th>seller</th>\n",
       "      <th>seller_country</th>\n",
       "      <th>price</th>\n",
       "      <th>author</th>\n",
       "    </tr>\n",
       "  </thead>\n",
       "  <tbody>\n",
       "    <tr>\n",
       "      <th>8147</th>\n",
       "      <td>9781602645165</td>\n",
       "      <td>Side Effects: Death. Confessions of a Pharma-I...</td>\n",
       "      <td>Save With Sam</td>\n",
       "      <td>USA</td>\n",
       "      <td>166.21</td>\n",
       "      <td>Virapen, John</td>\n",
       "    </tr>\n",
       "    <tr>\n",
       "      <th>1413</th>\n",
       "      <td>9780691117362</td>\n",
       "      <td>Landscape with Rowers_ Poetry from the Netherl...</td>\n",
       "      <td>San Francisco Book Company</td>\n",
       "      <td>Frankreich</td>\n",
       "      <td>30.00</td>\n",
       "      <td>Cotetzee, J. M. (trans &amp; intro); et al (text)</td>\n",
       "    </tr>\n",
       "    <tr>\n",
       "      <th>5806</th>\n",
       "      <td>9781107539303</td>\n",
       "      <td>Advanced Grammar in Use Book with Answers and ...</td>\n",
       "      <td>Byrd Books</td>\n",
       "      <td>USA</td>\n",
       "      <td>67.31</td>\n",
       "      <td>Hewings, Martin</td>\n",
       "    </tr>\n",
       "  </tbody>\n",
       "</table>\n",
       "</div>"
      ],
      "text/plain": [
       "               isbn                                              title  \\\n",
       "8147  9781602645165  Side Effects: Death. Confessions of a Pharma-I...   \n",
       "1413  9780691117362  Landscape with Rowers_ Poetry from the Netherl...   \n",
       "5806  9781107539303  Advanced Grammar in Use Book with Answers and ...   \n",
       "\n",
       "                          seller seller_country   price  \\\n",
       "8147               Save With Sam            USA  166.21   \n",
       "1413  San Francisco Book Company     Frankreich   30.00   \n",
       "5806                  Byrd Books            USA   67.31   \n",
       "\n",
       "                                             author  \n",
       "8147                                  Virapen, John  \n",
       "1413  Cotetzee, J. M. (trans & intro); et al (text)  \n",
       "5806                                Hewings, Martin  "
      ]
     },
     "execution_count": 2,
     "metadata": {},
     "output_type": "execute_result"
    }
   ],
   "source": [
    "df = pd.read_csv(\"abebooks.csv\")\n",
    "df.sample(3)"
   ]
  },
  {
   "cell_type": "code",
   "execution_count": 3,
   "metadata": {},
   "outputs": [
    {
     "data": {
      "text/plain": [
       "1000"
      ]
     },
     "execution_count": 3,
     "metadata": {},
     "output_type": "execute_result"
    }
   ],
   "source": [
    "df[\"isbn\"].nunique()"
   ]
  },
  {
   "cell_type": "code",
   "execution_count": 4,
   "metadata": {},
   "outputs": [],
   "source": [
    "t = df.groupby(\"isbn\", as_index=False).agg({\"seller\": \"unique\"})"
   ]
  },
  {
   "cell_type": "code",
   "execution_count": 5,
   "metadata": {},
   "outputs": [
    {
     "data": {
      "text/plain": [
       "array([], dtype=int64)"
      ]
     },
     "execution_count": 5,
     "metadata": {},
     "output_type": "execute_result"
    }
   ],
   "source": [
    "t[t[\"seller\"].apply(lambda x: \"Bookbot\" not in x)][\"isbn\"].values"
   ]
  },
  {
   "cell_type": "markdown",
   "metadata": {},
   "source": [
    "#### Jak často je Bookbot jediným prodávajícím?"
   ]
  },
  {
   "cell_type": "code",
   "execution_count": 9,
   "metadata": {},
   "outputs": [],
   "source": [
    "sellers_by_isbn = df.groupby(\"isbn\", as_index=False).agg(\n",
    "    n_sellers=(\"seller\", \"nunique\")\n",
    ")\n",
    "one_seller_offers = len(sellers_by_isbn[sellers_by_isbn[\"n_sellers\"] == 1])"
   ]
  },
  {
   "cell_type": "code",
   "execution_count": 10,
   "metadata": {},
   "outputs": [
    {
     "name": "stdout",
     "output_type": "stream",
     "text": [
      "Bookbot je jediným prodávajícím v 10.2% případů\n"
     ]
    }
   ],
   "source": [
    "print(\n",
    "    f\"Bookbot je jediným prodávajícím v {(one_seller_offers/df['isbn'].nunique())*100}% případů\"\n",
    ")"
   ]
  },
  {
   "cell_type": "markdown",
   "metadata": {},
   "source": [
    "#### Jak často je cena od Bookbota mezi 25% nejlevnějšími a nejdražšími nabídkami?"
   ]
  },
  {
   "cell_type": "code",
   "execution_count": 11,
   "metadata": {},
   "outputs": [],
   "source": [
    "price_quantiles = (\n",
    "    df.groupby(\"isbn\")[\"price\"].quantile([0.25, 0.75]).unstack().reset_index()\n",
    ")\n",
    "prices = df[df[\"seller\"] == \"Bookbot\"].merge(price_quantiles, on=\"isbn\", how=\"left\")\n",
    "\n",
    "prices[\"below_25p\"] = prices[\"price\"] < prices[0.25]\n",
    "prices[\"above_75p\"] = prices[\"price\"] > prices[0.75]"
   ]
  },
  {
   "cell_type": "code",
   "execution_count": 12,
   "metadata": {},
   "outputs": [
    {
     "data": {
      "text/plain": [
       "489"
      ]
     },
     "execution_count": 12,
     "metadata": {},
     "output_type": "execute_result"
    }
   ],
   "source": [
    "prices[\"below_25p\"].sum()"
   ]
  },
  {
   "cell_type": "code",
   "execution_count": 13,
   "metadata": {},
   "outputs": [
    {
     "data": {
      "text/plain": [
       "152"
      ]
     },
     "execution_count": 13,
     "metadata": {},
     "output_type": "execute_result"
    }
   ],
   "source": [
    "prices[\"above_75p\"].sum()"
   ]
  },
  {
   "cell_type": "markdown",
   "metadata": {},
   "source": [
    "#### Identifikujte prodejce, kteří mají častěji nižší cenu než BookBot."
   ]
  },
  {
   "cell_type": "code",
   "execution_count": 14,
   "metadata": {},
   "outputs": [],
   "source": [
    "bookbot_prices = df[df[\"seller\"] == \"Bookbot\"][[\"isbn\", \"price\"]]\n",
    "competition_prices = df[df[\"seller\"] != \"Bookbot\"][[\"seller\", \"isbn\", \"price\"]]"
   ]
  },
  {
   "cell_type": "code",
   "execution_count": 15,
   "metadata": {},
   "outputs": [
    {
     "data": {
      "text/html": [
       "<div>\n",
       "<style scoped>\n",
       "    .dataframe tbody tr th:only-of-type {\n",
       "        vertical-align: middle;\n",
       "    }\n",
       "\n",
       "    .dataframe tbody tr th {\n",
       "        vertical-align: top;\n",
       "    }\n",
       "\n",
       "    .dataframe thead th {\n",
       "        text-align: right;\n",
       "    }\n",
       "</style>\n",
       "<table border=\"1\" class=\"dataframe\">\n",
       "  <thead>\n",
       "    <tr style=\"text-align: right;\">\n",
       "      <th></th>\n",
       "      <th>seller</th>\n",
       "      <th>cheaper_books</th>\n",
       "    </tr>\n",
       "  </thead>\n",
       "  <tbody>\n",
       "    <tr>\n",
       "      <th>800</th>\n",
       "      <td>medimops</td>\n",
       "      <td>90</td>\n",
       "    </tr>\n",
       "    <tr>\n",
       "      <th>196</th>\n",
       "      <td>Book Deals</td>\n",
       "      <td>62</td>\n",
       "    </tr>\n",
       "    <tr>\n",
       "      <th>803</th>\n",
       "      <td>moluna</td>\n",
       "      <td>62</td>\n",
       "    </tr>\n",
       "    <tr>\n",
       "      <th>375</th>\n",
       "      <td>GreatBookPricesUK</td>\n",
       "      <td>59</td>\n",
       "    </tr>\n",
       "    <tr>\n",
       "      <th>346</th>\n",
       "      <td>GF Books, Inc.</td>\n",
       "      <td>56</td>\n",
       "    </tr>\n",
       "    <tr>\n",
       "      <th>214</th>\n",
       "      <td>Books Unplugged</td>\n",
       "      <td>51</td>\n",
       "    </tr>\n",
       "    <tr>\n",
       "      <th>374</th>\n",
       "      <td>GreatBookPrices</td>\n",
       "      <td>50</td>\n",
       "    </tr>\n",
       "    <tr>\n",
       "      <th>252</th>\n",
       "      <td>Byrd Books</td>\n",
       "      <td>41</td>\n",
       "    </tr>\n",
       "    <tr>\n",
       "      <th>616</th>\n",
       "      <td>Revaluation Books</td>\n",
       "      <td>41</td>\n",
       "    </tr>\n",
       "    <tr>\n",
       "      <th>13</th>\n",
       "      <td>AHA-BUCH GmbH</td>\n",
       "      <td>40</td>\n",
       "    </tr>\n",
       "    <tr>\n",
       "      <th>762</th>\n",
       "      <td>WorldofBooks</td>\n",
       "      <td>39</td>\n",
       "    </tr>\n",
       "    <tr>\n",
       "      <th>360</th>\n",
       "      <td>GoldBooks</td>\n",
       "      <td>38</td>\n",
       "    </tr>\n",
       "    <tr>\n",
       "      <th>564</th>\n",
       "      <td>PBShop.store UK</td>\n",
       "      <td>37</td>\n",
       "    </tr>\n",
       "    <tr>\n",
       "      <th>783</th>\n",
       "      <td>booksXpress</td>\n",
       "      <td>36</td>\n",
       "    </tr>\n",
       "    <tr>\n",
       "      <th>362</th>\n",
       "      <td>GoldenWavesOfBooks</td>\n",
       "      <td>33</td>\n",
       "    </tr>\n",
       "    <tr>\n",
       "      <th>188</th>\n",
       "      <td>Blackwell's</td>\n",
       "      <td>32</td>\n",
       "    </tr>\n",
       "    <tr>\n",
       "      <th>274</th>\n",
       "      <td>Chiron Media</td>\n",
       "      <td>32</td>\n",
       "    </tr>\n",
       "    <tr>\n",
       "      <th>237</th>\n",
       "      <td>BuchWeltWeit Ludwig Meier e.K.</td>\n",
       "      <td>31</td>\n",
       "    </tr>\n",
       "    <tr>\n",
       "      <th>618</th>\n",
       "      <td>Ria Christie Collections</td>\n",
       "      <td>30</td>\n",
       "    </tr>\n",
       "    <tr>\n",
       "      <th>655</th>\n",
       "      <td>SecondSale</td>\n",
       "      <td>30</td>\n",
       "    </tr>\n",
       "  </tbody>\n",
       "</table>\n",
       "</div>"
      ],
      "text/plain": [
       "                             seller  cheaper_books\n",
       "800                        medimops             90\n",
       "196                      Book Deals             62\n",
       "803                          moluna             62\n",
       "375               GreatBookPricesUK             59\n",
       "346                  GF Books, Inc.             56\n",
       "214                 Books Unplugged             51\n",
       "374                 GreatBookPrices             50\n",
       "252                      Byrd Books             41\n",
       "616               Revaluation Books             41\n",
       "13                    AHA-BUCH GmbH             40\n",
       "762                    WorldofBooks             39\n",
       "360                       GoldBooks             38\n",
       "564                 PBShop.store UK             37\n",
       "783                     booksXpress             36\n",
       "362              GoldenWavesOfBooks             33\n",
       "188                     Blackwell's             32\n",
       "274                    Chiron Media             32\n",
       "237  BuchWeltWeit Ludwig Meier e.K.             31\n",
       "618        Ria Christie Collections             30\n",
       "655                      SecondSale             30"
      ]
     },
     "execution_count": 15,
     "metadata": {},
     "output_type": "execute_result"
    }
   ],
   "source": [
    "price_vs_competition = competition_prices.merge(\n",
    "    bookbot_prices, on=\"isbn\", suffixes=(\"\", \"_bookbot\")\n",
    ")\n",
    "price_vs_competition[\"cheaper_than_bookbot\"] = (\n",
    "    price_vs_competition[\"price\"] < price_vs_competition[\"price_bookbot\"]\n",
    ")\n",
    "price_vs_competition.groupby(\"seller\", as_index=False).agg(\n",
    "    cheaper_books=(\"cheaper_than_bookbot\", \"sum\")\n",
    ").nlargest(20, \"cheaper_books\")"
   ]
  },
  {
   "cell_type": "markdown",
   "metadata": {},
   "source": [
    "#### Vypočítejte průměrnou odchylku nabídek Bookotu od nejnižší ceny."
   ]
  },
  {
   "cell_type": "code",
   "execution_count": 16,
   "metadata": {},
   "outputs": [],
   "source": [
    "min_price = df.groupby(\"isbn\", as_index=False).agg({\"price\": \"min\"})\n",
    "price_vs_min = df[df[\"seller\"] == \"Bookbot\"].merge(\n",
    "    min_price, on=\"isbn\", suffixes=(\"\", \"_mininum\")\n",
    ")\n",
    "price_vs_min[\"diff\"] = price_vs_min[\"price\"] - price_vs_min[\"price_mininum\"]"
   ]
  },
  {
   "cell_type": "code",
   "execution_count": 17,
   "metadata": {},
   "outputs": [
    {
     "data": {
      "text/plain": [
       "18.983849999999997"
      ]
     },
     "execution_count": 17,
     "metadata": {},
     "output_type": "execute_result"
    }
   ],
   "source": [
    "price_vs_min[\"diff\"].mean()"
   ]
  },
  {
   "cell_type": "code",
   "execution_count": 18,
   "metadata": {},
   "outputs": [
    {
     "data": {
      "text/plain": [
       "3.0"
      ]
     },
     "execution_count": 18,
     "metadata": {},
     "output_type": "execute_result"
    }
   ],
   "source": [
    "price_vs_min[\"diff\"].median()"
   ]
  },
  {
   "cell_type": "markdown",
   "metadata": {},
   "source": [
    "#### Analyzujte relativní zastoupení nabídek ze zahraničí ve stažených datech."
   ]
  },
  {
   "cell_type": "code",
   "execution_count": 19,
   "metadata": {},
   "outputs": [
    {
     "name": "stdout",
     "output_type": "stream",
     "text": [
      "Podíl zahraničních nabídek v datech je 84.408014571949%\n"
     ]
    }
   ],
   "source": [
    "print(\n",
    "    f'Podíl zahraničních nabídek v datech je {(len(df[df[\"seller_country\"]!=\"Deutschland\"])/len(df))*100}%'\n",
    ")"
   ]
  }
 ],
 "metadata": {
  "kernelspec": {
   "display_name": "venv",
   "language": "python",
   "name": "python3"
  },
  "language_info": {
   "codemirror_mode": {
    "name": "ipython",
    "version": 3
   },
   "file_extension": ".py",
   "mimetype": "text/x-python",
   "name": "python",
   "nbconvert_exporter": "python",
   "pygments_lexer": "ipython3",
   "version": "3.10.8"
  }
 },
 "nbformat": 4,
 "nbformat_minor": 2
}
